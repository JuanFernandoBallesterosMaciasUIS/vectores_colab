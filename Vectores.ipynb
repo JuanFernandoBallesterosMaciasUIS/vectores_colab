{
  "nbformat": 4,
  "nbformat_minor": 0,
  "metadata": {
    "colab": {
      "provenance": [],
      "authorship_tag": "ABX9TyP/iESY/+cpVxIOYuzowjCR",
      "include_colab_link": true
    },
    "kernelspec": {
      "name": "python3",
      "display_name": "Python 3"
    },
    "language_info": {
      "name": "python"
    },
    "accelerator": "TPU"
  },
  "cells": [
    {
      "cell_type": "markdown",
      "metadata": {
        "id": "view-in-github",
        "colab_type": "text"
      },
      "source": [
        "<a href=\"https://colab.research.google.com/github/JuanFernandoBallesterosMaciasUIS/vectores_colab/blob/main/Vectores.ipynb\" target=\"_parent\"><img src=\"https://colab.research.google.com/assets/colab-badge.svg\" alt=\"Open In Colab\"/></a>"
      ]
    },
    {
      "cell_type": "markdown",
      "source": [
        "# VECTORES"
      ],
      "metadata": {
        "id": "S6aR0nRrzotz"
      }
    },
    {
      "cell_type": "code",
      "source": [
        "# Ejercicio_1: Vector con números aleatorios\n",
        "import random\n",
        "\n",
        "print(\"Vector con números aleatorios\")\n",
        "x = [None] *10\n",
        "for i in range(10):\n",
        "  x[i] = random.random()\n",
        "  print(x[i])\n",
        "print(x)"
      ],
      "metadata": {
        "id": "MmqC1MAuzft_"
      },
      "execution_count": null,
      "outputs": []
    },
    {
      "cell_type": "code",
      "source": [
        "# Ejercicio_2: Suma de los elementos de un vector\n",
        "\n",
        "suma = 0\n",
        "vector = [None]*5\n",
        "\n",
        "for i in range(5):\n",
        "  a = int(input(\"Dame un elemento: \"))\n",
        "  vector[i] = a\n",
        "  suma = suma + vector[i]\n",
        "print(\"La suma de los elementos del vector es: \", suma)"
      ],
      "metadata": {
        "colab": {
          "base_uri": "https://localhost:8080/"
        },
        "id": "2aauuFt-2Yfk",
        "outputId": "53e36baa-0af7-4d55-cad5-fe62c9d0b9c3"
      },
      "execution_count": null,
      "outputs": [
        {
          "output_type": "stream",
          "name": "stdout",
          "text": [
            "Dame un elemento: 5\n",
            "Dame un elemento: 4\n",
            "Dame un elemento: 3\n",
            "Dame un elemento: 2\n",
            "Dame un elemento: 1\n",
            "La suma de los elementos del vector es:  15\n"
          ]
        }
      ]
    },
    {
      "cell_type": "code",
      "source": [
        "# Ejercicio_3: Una empresa tiene 250 empleados por cada uno de ellos tenemos un registro que trae grabado dos datos, el nombre del empleado y su correspondiente salario mensual.\n",
        "# Hacer el diagrama y el programa en python que averigue y imprima, cuantos empleados gana mas del promedio salarial de la empresa.\n",
        "\n",
        "n = int(input(\"Digita la cantidad de empleados que quieres ingresar: \"))\n",
        "print(\"\")\n",
        "vector_emple = [None] * n\n",
        "vector_salario = [None] * n\n",
        "suma = 0\n",
        "\n",
        "for i in range(n):\n",
        "  e = input(\"Digita el nombre del empleado \"+ str(i+1) + \": \")\n",
        "  s = int(input(\"Digita el salario mensual del empleado \"+str(i+1) + \": \"))\n",
        "  print(\"------------------------------------------------------\")\n",
        "  vector_emple[i] = e\n",
        "  vector_salario[i] = s\n",
        "  suma = suma + s\n",
        "\n",
        "promedio = suma / n\n",
        "n_empleados = 0\n",
        "\n",
        "for i in range(n):\n",
        "  if vector_salario[i] > promedio:\n",
        "    n_empleados = n_empleados + 1\n",
        "\n",
        "print(\"Promedio salarial: \", promedio)\n",
        "print(\"Se ingresaron \" + str(n) + \" empleados y la cantidad de empleados que superan el promedio salarial es: \", n_empleados)\n"
      ],
      "metadata": {
        "id": "MsIPaKIM30nt"
      },
      "execution_count": null,
      "outputs": []
    },
    {
      "cell_type": "code",
      "source": [
        "# Hacer el diagrama y el programa el python que lea un vector A de n elementos, y que averigue e imprima cual es el mayor\n",
        "# y en que posición se encuentra y cual es el menor y en que posición se encuentra\n",
        "\n",
        "print(\"Vector A\")\n",
        "n = int(input(\"Ingresa la cantidad de elementos del vector A: \"))\n",
        "a = [None] * n\n",
        "\n",
        "for i in range(n):\n",
        "  n1 = int(input(\"Ingrese el valor \" + str(i+1) + \": \"))\n",
        "  a[i] = n1\n",
        "\n",
        "print(\"-------------------\")\n",
        "print(\"Vector generado:\", a)\n",
        "\n",
        "mayor = 0\n",
        "posicion = 0\n",
        "for i in range(n):\n",
        "  if a[i] > mayor:\n",
        "    mayor = a[i]\n",
        "    posicion = i\n",
        "print(\"\")\n",
        "print(\"El número mayor del vector es\",mayor,\"y se encuentra en la posición\", posicion)\n",
        "\n",
        "menor = mayor\n",
        "posicion = 0\n",
        "for i in range(n):\n",
        "  if a[i] < menor:\n",
        "    menor = a[i]\n",
        "    posicion = i\n",
        "  \n",
        "print(\"El número menor del vector es\",menor,\"y se encuentra en la posición\", posicion)\n",
        "\n"
      ],
      "metadata": {
        "colab": {
          "base_uri": "https://localhost:8080/"
        },
        "id": "W4dqj0CS_HJR",
        "outputId": "29852ba9-8c2c-4a8b-c4ed-dac09b297c91"
      },
      "execution_count": null,
      "outputs": [
        {
          "output_type": "stream",
          "name": "stdout",
          "text": [
            "Vector A\n",
            "Ingresa la cantidad de elementos del vector A: 5\n",
            "Ingrese el valor 1: 12\n",
            "Ingrese el valor 2: 3\n",
            "Ingrese el valor 3: 5\n",
            "Ingrese el valor 4: 9\n",
            "Ingrese el valor 5: 3\n",
            "-------------------\n",
            "Vector generado: [12, 3, 5, 9, 3]\n",
            "El número mayor del vector es 12 y se encuentra en la posición 0\n",
            "El número menor del vector es 3 y se encuentra en la posición 4\n"
          ]
        }
      ]
    },
    {
      "cell_type": "code",
      "source": [
        "# Ejercicio 5 : Calcular la magnitud o norma euclidiana de un vector\n",
        "\n",
        "n = int(input(\"Digita la cantidad de elementos del vector: \"))\n",
        "print(\"----------------\")\n",
        "\n",
        "\n",
        "vector = [None] * n\n",
        "resultado = 0\n",
        "\n",
        "for i in range(n):\n",
        "  n1 = int(input(\"Digita el valor del elemento \" + str(i+1) +\": \"))\n",
        "  vector[i] = n1\n",
        "\n",
        "\n",
        "for i in range(n):\n",
        "   resul1= vector[i]**2\n",
        "   resultado = resultado + resul1\n",
        "\n",
        "resultado = resultado**0.5\n",
        "\n",
        "print(\"----------------\")\n",
        "print(\"Vector generado:\")\n",
        "print(vector)\n",
        "print(\"----------------\")\n",
        "print(\"La magnitud de la matriz es:\", resultado)\n"
      ],
      "metadata": {
        "id": "AMibgqfPFL-R",
        "colab": {
          "base_uri": "https://localhost:8080/"
        },
        "outputId": "7df85cce-3909-472c-afd0-c604ea1275a6"
      },
      "execution_count": null,
      "outputs": [
        {
          "output_type": "stream",
          "name": "stdout",
          "text": [
            "Digita la cantidad de elementos del vector: 5\n",
            "Digita el valor del elemento 1: 12\n",
            "Digita el valor del elemento 2: 25\n",
            "Digita el valor del elemento 3: 2\n",
            "Digita el valor del elemento 4: 43\n",
            "Digita el valor del elemento 5: 1\n",
            "----------------\n",
            "Vector generado:\n",
            "[12, 25, 2, 43, 1]\n",
            "----------------\n",
            "La magnitud de la matriz es: 51.21523210920751\n"
          ]
        }
      ]
    },
    {
      "cell_type": "code",
      "source": [
        "# Calcular productor escalar de dos vectores\n",
        "\n",
        "n = int(input(\"Digita la cantidad de elementos para los dos vectores: \"))\n",
        "print(\"---------------------------\")\n",
        "\n",
        "\n",
        "vector1 = [None] * n\n",
        "resultado = 0\n",
        "\n",
        "for i in range(n):\n",
        "  n1 = int(input(\"Digita el valor del elemento \" + str(i+1) +\": \"))\n",
        "  vector1[i] = n1\n",
        "\n",
        "vector2 = [None] * n\n",
        "resultado = 0\n",
        "print(\"---------------------------\")\n",
        "\n",
        "print(\"Elementos del segundo vector:\")\n",
        "\n",
        "for i in range(n):\n",
        "  n1 = int(input(\"Digita el valor del elemento \" + str(i+1) +\": \"))\n",
        "  vector2[i] = n1\n",
        "\n",
        "print(\"---------------------------\")\n",
        "\n",
        "for i in range(n):\n",
        "  producto = vector2[i] * vector1[i]\n",
        "  resultado = resultado + producto\n",
        "\n",
        "print(\"\")\n",
        "print(\"----------------------RESULTADOS----------------------\")\n",
        "print(\"Vector 1:\")\n",
        "print(vector1)\n",
        "print(\"Vector 2:\")\n",
        "print(vector2)\n",
        "print(\"El producto escalar de los dos vectores es: \", resultado)\n",
        "print(\"------------------------------------------------------\")\n",
        "\n",
        "\n",
        "\n"
      ],
      "metadata": {
        "id": "mCQN61ijFZuP",
        "colab": {
          "base_uri": "https://localhost:8080/"
        },
        "outputId": "1b5b3f90-76bb-49ff-a41d-ef95ad11418c"
      },
      "execution_count": null,
      "outputs": [
        {
          "output_type": "stream",
          "name": "stdout",
          "text": [
            "Digita la cantidad de elementos para los dos vectores: 2\n",
            "---------------------------\n",
            "Digita el valor del elemento 1: 1\n",
            "Digita el valor del elemento 2: 2\n",
            "---------------------------\n",
            "Elementos del segundo vector:\n",
            "Digita el valor del elemento 1: 3\n",
            "Digita el valor del elemento 2: 4\n",
            "---------------------------\n",
            "\n",
            "----------------------RESULTADOS----------------------\n",
            "Vector 1:\n",
            "[1, 2]\n",
            "Vector 2:\n",
            "[3, 4]\n",
            "El producto escalar de los dos vectores es:  11\n",
            "------------------------------------------------------\n"
          ]
        }
      ]
    }
  ]
}